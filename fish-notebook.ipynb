{
 "cells": [
  {
   "cell_type": "code",
   "execution_count": 4,
   "metadata": {},
   "outputs": [],
   "source": [
    "import geopandas as gpd\n",
    "import geoplot as gplt\n",
    "import netCDF4 as nc"
   ]
  },
  {
   "cell_type": "code",
   "execution_count": 6,
   "metadata": {},
   "outputs": [],
   "source": [
    "salinity_20201_file = 'Salinity Data - Monthly Average\\salinity_data\\RSS_smap_SSS_L3_monthly_2020_01_FNL_v04.0.nc'\n",
    "salinity_20201 = nc.Dataset(salinity_20201_file)"
   ]
  },
  {
   "cell_type": "code",
   "execution_count": 24,
   "metadata": {},
   "outputs": [
    {
     "data": {
      "text/plain": [
       "dict_keys(['lon', 'lat', 'time', 'nobs', 'nobs_40km', 'sss_smap', 'sss_smap_uncertainty', 'sss_smap_40km', 'sss_ref', 'gland', 'fland', 'gice', 'surtep'])"
      ]
     },
     "execution_count": 24,
     "metadata": {},
     "output_type": "execute_result"
    }
   ],
   "source": [
    "salinity_20201.variables.keys()"
   ]
  },
  {
   "cell_type": "code",
   "execution_count": null,
   "metadata": {},
   "outputs": [],
   "source": [
    "print(salinity_20201.variables['sss_smap'][:]"
   ]
  },
  {
   "cell_type": "code",
   "execution_count": 28,
   "metadata": {},
   "outputs": [
    {
     "name": "stdout",
     "output_type": "stream",
     "text": [
      "         salinity  latitude  longitude         time                geometry\n",
      "0             NaN   -89.875      0.125  632491199.5   POINT (0.125 -89.875)\n",
      "1             NaN   -89.875      0.375  632491199.5   POINT (0.375 -89.875)\n",
      "2             NaN   -89.875      0.625  632491199.5   POINT (0.625 -89.875)\n",
      "3             NaN   -89.875      0.875  632491199.5   POINT (0.875 -89.875)\n",
      "4             NaN   -89.875      1.125  632491199.5   POINT (1.125 -89.875)\n",
      "...           ...       ...        ...          ...                     ...\n",
      "1036795       NaN    89.875    358.875  632491199.5  POINT (358.875 89.875)\n",
      "1036796       NaN    89.875    359.125  632491199.5  POINT (359.125 89.875)\n",
      "1036797       NaN    89.875    359.375  632491199.5  POINT (359.375 89.875)\n",
      "1036798       NaN    89.875    359.625  632491199.5  POINT (359.625 89.875)\n",
      "1036799       NaN    89.875    359.875  632491199.5  POINT (359.875 89.875)\n",
      "\n",
      "[1036800 rows x 5 columns]\n"
     ]
    }
   ],
   "source": [
    "import numpy as np\n",
    "import pandas as pd\n",
    "from shapely.geometry import Point\n",
    "import geopandas as gpd\n",
    "\n",
    "lon_data = salinity_20201.variables['lon'][:]\n",
    "lat_data = salinity_20201.variables['lat'][:]\n",
    "time_data = salinity_20201.variables['time'][:]\n",
    "salinity_map_data = salinity_20201.variables['sss_smap'][:]\n",
    "\n",
    "lon_grid, lat_grid = np.meshgrid(lon_data, lat_data)\n",
    "\n",
    "# Flatten the grid arrays and pair them into coordinates\n",
    "coordinates = np.dstack([lon_grid.flatten(), lat_grid.flatten()])[0]\n",
    "\n",
    "# Create a list of Point objects using the coordinates\n",
    "geometry = [Point(coord) for coord in coordinates]\n",
    "\n",
    "# Flatten the salinity_map_data and convert it to a list\n",
    "salinity_list = salinity_map_data.flatten().tolist()\n",
    "\n",
    "# Repeat time data to match the length of salinity_list\n",
    "time_list = np.repeat(time_data, len(lon_data) * len(lat_data)).tolist()\n",
    "\n",
    "# Create a DataFrame\n",
    "df = pd.DataFrame({\n",
    "    'salinity': salinity_list,\n",
    "    'latitude': lat_grid.flatten().tolist(),\n",
    "    'longitude': lon_grid.flatten().tolist(),\n",
    "    'time': time_list\n",
    "})\n",
    "\n",
    "# Create a GeoDataFrame\n",
    "gdf = gpd.GeoDataFrame(df, geometry=geometry)\n",
    "\n",
    "# Print the GeoDataFrame\n",
    "print(gdf)"
   ]
  }
 ],
 "metadata": {
  "kernelspec": {
   "display_name": "fishing",
   "language": "python",
   "name": "python3"
  },
  "language_info": {
   "codemirror_mode": {
    "name": "ipython",
    "version": 3
   },
   "file_extension": ".py",
   "mimetype": "text/x-python",
   "name": "python",
   "nbconvert_exporter": "python",
   "pygments_lexer": "ipython3",
   "version": "3.11.9"
  }
 },
 "nbformat": 4,
 "nbformat_minor": 2
}
